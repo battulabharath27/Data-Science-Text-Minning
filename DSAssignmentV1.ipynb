{
  "nbformat": 4,
  "nbformat_minor": 0,
  "metadata": {
    "colab": {
      "name": "DSAssignmentV1.ipynb",
      "provenance": [],
      "include_colab_link": true
    },
    "kernelspec": {
      "name": "python3",
      "display_name": "Python 3"
    }
  },
  "cells": [
    {
      "cell_type": "markdown",
      "metadata": {
        "id": "view-in-github",
        "colab_type": "text"
      },
      "source": [
        "<a href=\"https://colab.research.google.com/github/battulabharath27/Data-Science-Text-Minning/blob/master/DSAssignmentV1.ipynb\" target=\"_parent\"><img src=\"https://colab.research.google.com/assets/colab-badge.svg\" alt=\"Open In Colab\"/></a>"
      ]
    },
    {
      "cell_type": "code",
      "metadata": {
        "id": "0Ns65qltU---",
        "colab_type": "code",
        "outputId": "492d9737-82b7-44a0-b432-fd9186f554a0",
        "colab": {
          "base_uri": "https://localhost:8080/",
          "height": 153
        }
      },
      "source": [
        "import nltk\n",
        "import re\n",
        "nltk.download('gutenberg')\n",
        "nltk.download('punkt')\n",
        "nltk.download('wordnet')\n",
        "nltk.download('stopwords')\n",
        "from nltk.stem.porter import PorterStemmer\n",
        "from nltk.stem import WordNetLemmatizer\n",
        "from nltk.corpus import stopwords\n",
        "from nltk.corpus import gutenberg"
      ],
      "execution_count": 0,
      "outputs": [
        {
          "output_type": "stream",
          "text": [
            "[nltk_data] Downloading package gutenberg to /root/nltk_data...\n",
            "[nltk_data]   Unzipping corpora/gutenberg.zip.\n",
            "[nltk_data] Downloading package punkt to /root/nltk_data...\n",
            "[nltk_data]   Unzipping tokenizers/punkt.zip.\n",
            "[nltk_data] Downloading package wordnet to /root/nltk_data...\n",
            "[nltk_data]   Unzipping corpora/wordnet.zip.\n",
            "[nltk_data] Downloading package stopwords to /root/nltk_data...\n",
            "[nltk_data]   Unzipping corpora/stopwords.zip.\n"
          ],
          "name": "stdout"
        }
      ]
    },
    {
      "cell_type": "code",
      "metadata": {
        "id": "HlkeQbhkVAqy",
        "colab_type": "code",
        "colab": {}
      },
      "source": [
        "#reading seven books as rawtext\n",
        "rawtext1 = nltk.corpus.gutenberg.raw('chesterton-thursday.txt')\n",
        "rawtext2 = nltk.corpus.gutenberg.raw('shakespeare-hamlet.txt')\n",
        "rawtext3 = nltk.corpus.gutenberg.raw('austen-sense.txt')\n",
        "rawtext4 = nltk.corpus.gutenberg.raw('blake-poems.txt')\n",
        "rawtext5 = nltk.corpus.gutenberg.raw('chesterton-ball.txt')\n",
        "rawtext6 = nltk.corpus.gutenberg.raw('whitman-leaves.txt')\n",
        "rawtext7 = nltk.corpus.gutenberg.raw('shakespeare-caesar.txt')"
      ],
      "execution_count": 0,
      "outputs": []
    },
    {
      "cell_type": "code",
      "metadata": {
        "id": "dBpBlO1KVFjW",
        "colab_type": "code",
        "colab": {}
      },
      "source": [
        "#taking author names array\n",
        "rawtext = [rawtext1,rawtext2,rawtext3,rawtext4,rawtext5,rawtext6,rawtext7]\n",
        "Authors = [\"chesterton-thursday\",\"shakespeare-hamlet\",\"austen\",\"blake\",\"chesterton-ball\",\"whitman\",\"shakespeare-caesar\"]\n"
      ],
      "execution_count": 0,
      "outputs": []
    },
    {
      "cell_type": "code",
      "metadata": {
        "id": "VxsvaXqYDFpy",
        "colab_type": "code",
        "colab": {}
      },
      "source": [
        "#method to clean up the documents(remove stop words)\n",
        "def cleanupDoc(s):\n",
        "     stopset = set(stopwords.words('english'))\n",
        "     tokens = nltk.word_tokenize(s)\n",
        "     cleanup = \" \".join(filter(lambda word: word not in stopset, s.split()))\n",
        "     return cleanup"
      ],
      "execution_count": 0,
      "outputs": []
    },
    {
      "cell_type": "code",
      "metadata": {
        "id": "_b9MyYx8VH6k",
        "colab_type": "code",
        "colab": {}
      },
      "source": [
        "#further clean up the docs\n",
        "tokenized_sent = []\n",
        "for i in range(0,(len(rawtext))):\n",
        "    tokenized_sent.append(nltk.sent_tokenize(rawtext[i]))\n",
        "    for j in range(len(tokenized_sent[i])):\n",
        "        clean = []\n",
        "        clean = re.sub('[^a-zA-Z]', ' ',tokenized_sent[i][j])\n",
        "        clean = clean.lower()\n",
        "        clean = cleanupDoc(clean)\n",
        "        tokenized_sent[i][j] = ''.join(clean)  "
      ],
      "execution_count": 0,
      "outputs": []
    },
    {
      "cell_type": "code",
      "metadata": {
        "id": "bQ1eX8J-VKAG",
        "colab_type": "code",
        "colab": {}
      },
      "source": [
        "#labelling the docs with author names\n",
        "tokenized_sent_label = []\n",
        "for i in range(0,(len(rawtext))):\n",
        "    innersentence = []\n",
        "    for j in range(0,len(tokenized_sent[i])):\n",
        "        innersentence.append([(tokenized_sent[i][j]),(Authors[i])])   \n",
        "    tokenized_sent_label.append(innersentence)\n"
      ],
      "execution_count": 0,
      "outputs": []
    },
    {
      "cell_type": "code",
      "metadata": {
        "id": "w5DIJFbBVMqj",
        "colab_type": "code",
        "colab": {}
      },
      "source": [
        "#concatenating all docs into the one set of sentences\n",
        "tokenized_sent_label_concat = []\n",
        "for i in range(0,(len(rawtext))):\n",
        "    for j in range(0,len(tokenized_sent[i])):\n",
        "        tokenized_sent_label_concat.append(tokenized_sent_label[i][j])"
      ],
      "execution_count": 0,
      "outputs": []
    },
    {
      "cell_type": "code",
      "metadata": {
        "id": "LWaUwQBCVPGD",
        "colab_type": "code",
        "colab": {}
      },
      "source": [
        "#converting it into pandas\n",
        "import pandas as pd\n",
        "\n",
        "df = pd.DataFrame(tokenized_sent_label_concat,columns=[\"Sentences\",\"Authors\"])\n"
      ],
      "execution_count": 0,
      "outputs": []
    },
    {
      "cell_type": "code",
      "metadata": {
        "id": "zLYsjZjDVSdm",
        "colab_type": "code",
        "outputId": "ffb9e591-8620-490e-9efd-49cc1fcc89c7",
        "colab": {
          "base_uri": "https://localhost:8080/",
          "height": 292
        }
      },
      "source": [
        "#info and description of our data frame\n",
        "df.info()\n",
        "df.describe()\n"
      ],
      "execution_count": 0,
      "outputs": [
        {
          "output_type": "stream",
          "text": [
            "<class 'pandas.core.frame.DataFrame'>\n",
            "RangeIndex: 21174 entries, 0 to 21173\n",
            "Data columns (total 2 columns):\n",
            "Sentences    21174 non-null object\n",
            "Authors      21174 non-null object\n",
            "dtypes: object(2)\n",
            "memory usage: 331.0+ KB\n"
          ],
          "name": "stdout"
        },
        {
          "output_type": "execute_result",
          "data": {
            "text/html": [
              "<div>\n",
              "<style scoped>\n",
              "    .dataframe tbody tr th:only-of-type {\n",
              "        vertical-align: middle;\n",
              "    }\n",
              "\n",
              "    .dataframe tbody tr th {\n",
              "        vertical-align: top;\n",
              "    }\n",
              "\n",
              "    .dataframe thead th {\n",
              "        text-align: right;\n",
              "    }\n",
              "</style>\n",
              "<table border=\"1\" class=\"dataframe\">\n",
              "  <thead>\n",
              "    <tr style=\"text-align: right;\">\n",
              "      <th></th>\n",
              "      <th>Sentences</th>\n",
              "      <th>Authors</th>\n",
              "    </tr>\n",
              "  </thead>\n",
              "  <tbody>\n",
              "    <tr>\n",
              "      <th>count</th>\n",
              "      <td>21174</td>\n",
              "      <td>21174</td>\n",
              "    </tr>\n",
              "    <tr>\n",
              "      <th>unique</th>\n",
              "      <td>19657</td>\n",
              "      <td>7</td>\n",
              "    </tr>\n",
              "    <tr>\n",
              "      <th>top</th>\n",
              "      <td></td>\n",
              "      <td>austen</td>\n",
              "    </tr>\n",
              "    <tr>\n",
              "      <th>freq</th>\n",
              "      <td>202</td>\n",
              "      <td>4833</td>\n",
              "    </tr>\n",
              "  </tbody>\n",
              "</table>\n",
              "</div>"
            ],
            "text/plain": [
              "       Sentences Authors\n",
              "count      21174   21174\n",
              "unique     19657       7\n",
              "top               austen\n",
              "freq         202    4833"
            ]
          },
          "metadata": {
            "tags": []
          },
          "execution_count": 62
        }
      ]
    },
    {
      "cell_type": "code",
      "metadata": {
        "id": "ehlq-uquK4W5",
        "colab_type": "code",
        "outputId": "f0091efc-2035-4d12-e814-7a5dfe7c0327",
        "colab": {
          "base_uri": "https://localhost:8080/",
          "height": 204
        }
      },
      "source": [
        "#head of our cleaned data frame\n",
        "df.head()"
      ],
      "execution_count": 0,
      "outputs": [
        {
          "output_type": "execute_result",
          "data": {
            "text/html": [
              "<div>\n",
              "<style scoped>\n",
              "    .dataframe tbody tr th:only-of-type {\n",
              "        vertical-align: middle;\n",
              "    }\n",
              "\n",
              "    .dataframe tbody tr th {\n",
              "        vertical-align: top;\n",
              "    }\n",
              "\n",
              "    .dataframe thead th {\n",
              "        text-align: right;\n",
              "    }\n",
              "</style>\n",
              "<table border=\"1\" class=\"dataframe\">\n",
              "  <thead>\n",
              "    <tr style=\"text-align: right;\">\n",
              "      <th></th>\n",
              "      <th>Sentences</th>\n",
              "      <th>Authors</th>\n",
              "    </tr>\n",
              "  </thead>\n",
              "  <tbody>\n",
              "    <tr>\n",
              "      <th>0</th>\n",
              "      <td>man thursday g k chesterton edmund clerihew be...</td>\n",
              "      <td>chesterton-thursday</td>\n",
              "    </tr>\n",
              "    <tr>\n",
              "      <th>1</th>\n",
              "      <td>science announced nonentity art admired decay ...</td>\n",
              "      <td>chesterton-thursday</td>\n",
              "    </tr>\n",
              "    <tr>\n",
              "      <th>2</th>\n",
              "      <td>like white lock whistler lit aimless gloom men...</td>\n",
              "      <td>chesterton-thursday</td>\n",
              "    </tr>\n",
              "    <tr>\n",
              "      <th>3</th>\n",
              "      <td>life fly faded death drone stung world old ind...</td>\n",
              "      <td>chesterton-thursday</td>\n",
              "    </tr>\n",
              "    <tr>\n",
              "      <th>4</th>\n",
              "      <td>twisted even decent sin shapes named men asham...</td>\n",
              "      <td>chesterton-thursday</td>\n",
              "    </tr>\n",
              "  </tbody>\n",
              "</table>\n",
              "</div>"
            ],
            "text/plain": [
              "                                           Sentences              Authors\n",
              "0  man thursday g k chesterton edmund clerihew be...  chesterton-thursday\n",
              "1  science announced nonentity art admired decay ...  chesterton-thursday\n",
              "2  like white lock whistler lit aimless gloom men...  chesterton-thursday\n",
              "3  life fly faded death drone stung world old ind...  chesterton-thursday\n",
              "4  twisted even decent sin shapes named men asham...  chesterton-thursday"
            ]
          },
          "metadata": {
            "tags": []
          },
          "execution_count": 64
        }
      ]
    },
    {
      "cell_type": "code",
      "metadata": {
        "id": "PUUqe5cdOjZH",
        "colab_type": "code",
        "colab": {}
      },
      "source": [
        "#Counting the sentences for each author\n",
        "b1 = []\n",
        "for i in range(0,len(Authors)):\n",
        "    Author = Authors[i]\n",
        "    b1.append(df.loc[df['Authors']==str(Author)])\n",
        "\n",
        "count = []\n",
        "for i in range(0,(len(b1))):\n",
        "    count.append(b1[i].shape[0])"
      ],
      "execution_count": 0,
      "outputs": []
    },
    {
      "cell_type": "code",
      "metadata": {
        "id": "xDGD-jmCMDXT",
        "colab_type": "code",
        "outputId": "836b538e-3ca3-437f-b4d0-2d845077e93c",
        "colab": {
          "base_uri": "https://localhost:8080/",
          "height": 283
        }
      },
      "source": [
        "#Data Visualization\n",
        "import seaborn as sns\n",
        "sns.barplot(Authors,count)"
      ],
      "execution_count": 0,
      "outputs": [
        {
          "output_type": "execute_result",
          "data": {
            "text/plain": [
              "<matplotlib.axes._subplots.AxesSubplot at 0x7f21e5450358>"
            ]
          },
          "metadata": {
            "tags": []
          },
          "execution_count": 72
        },
        {
          "output_type": "display_data",
          "data": {
            "image/png": "[encoded data removed]",
            "text/plain": [
              "<Figure size 432x288 with 1 Axes>"
            ]
          },
          "metadata": {
            "tags": []
          }
        }
      ]
    },
    {
      "cell_type": "code",
      "metadata": {
        "id": "EVgFWN_FVYma",
        "colab_type": "code",
        "outputId": "01bb7cbe-7675-4285-b377-fcc91111d3ed",
        "colab": {
          "base_uri": "https://localhost:8080/",
          "height": 51
        }
      },
      "source": [
        "df['Authors'].unique()"
      ],
      "execution_count": 0,
      "outputs": [
        {
          "output_type": "execute_result",
          "data": {
            "text/plain": [
              "array(['chesterton-thursday', 'shakespeare-hamlet', 'austen', 'blake',\n",
              "       'chesterton-ball', 'whitman', 'shakespeare-caesar'], dtype=object)"
            ]
          },
          "metadata": {
            "tags": []
          },
          "execution_count": 13
        }
      ]
    },
    {
      "cell_type": "code",
      "metadata": {
        "id": "QxDC3LxQVfEv",
        "colab_type": "code",
        "colab": {}
      },
      "source": [
        "#taking the required features from the data\n",
        "X = df['Sentences']\n",
        "y = df['Authors']\n"
      ],
      "execution_count": 0,
      "outputs": []
    },
    {
      "cell_type": "code",
      "metadata": {
        "id": "GgQS6t8aVh1S",
        "colab_type": "code",
        "colab": {}
      },
      "source": [
        "#building the Bag of Words using Count Vectorizer\n",
        "from sklearn.feature_extraction.text import CountVectorizer\n",
        "cv = CountVectorizer()"
      ],
      "execution_count": 0,
      "outputs": []
    },
    {
      "cell_type": "code",
      "metadata": {
        "id": "fADa8_b3Vjxg",
        "colab_type": "code",
        "colab": {}
      },
      "source": [
        "X = cv.fit_transform(X)"
      ],
      "execution_count": 0,
      "outputs": []
    },
    {
      "cell_type": "code",
      "metadata": {
        "id": "fCuGI2ZqVlm9",
        "colab_type": "code",
        "outputId": "17ac4720-b937-4681-ba88-3d9afc458cc9",
        "colab": {
          "base_uri": "https://localhost:8080/",
          "height": 51
        }
      },
      "source": [
        "#checking our vectorized data i.e., sparse matrix\n",
        "X"
      ],
      "execution_count": 0,
      "outputs": [
        {
          "output_type": "execute_result",
          "data": {
            "text/plain": [
              "<21174x22660 sparse matrix of type '<class 'numpy.int64'>'\n",
              "\twith 206473 stored elements in Compressed Sparse Row format>"
            ]
          },
          "metadata": {
            "tags": []
          },
          "execution_count": 92
        }
      ]
    },
    {
      "cell_type": "code",
      "metadata": {
        "id": "orlpNJtRRrOR",
        "colab_type": "code",
        "outputId": "0ca25052-e3cd-450e-b3b7-3c224b5e7d4a",
        "colab": {
          "base_uri": "https://localhost:8080/",
          "height": 51
        }
      },
      "source": [
        "#Applying TF - IDF vectorizer on the data\n",
        "from sklearn.feature_extraction.text import TfidfTransformer\n",
        "from sklearn.feature_extraction.text import TfidfVectorizer\n",
        "\n",
        "#with N_Gram range with Tri-gram\n",
        "tfidf = TfidfVectorizer(ngram_range=(1,3))\n",
        "\n",
        "X_tfidf=tfidf.fit_transform(df['Sentences'])\n",
        "X_tfidf\n"
      ],
      "execution_count": 0,
      "outputs": [
        {
          "output_type": "execute_result",
          "data": {
            "text/plain": [
              "<21174x367081 sparse matrix of type '<class 'numpy.float64'>'\n",
              "\twith 579319 stored elements in Compressed Sparse Row format>"
            ]
          },
          "metadata": {
            "tags": []
          },
          "execution_count": 102
        }
      ]
    },
    {
      "cell_type": "code",
      "metadata": {
        "id": "QH5v-9JUVnJE",
        "colab_type": "code",
        "colab": {}
      },
      "source": [
        "#splitting the data(using Count Vectorizer) into train test model\n",
        "from sklearn.model_selection import train_test_split\n",
        "X_train, X_test, y_train, y_test = train_test_split(X, y,test_size=0.3,random_state=101)\n",
        "\n"
      ],
      "execution_count": 0,
      "outputs": []
    },
    {
      "cell_type": "code",
      "metadata": {
        "id": "110d-8BaXZ0k",
        "colab_type": "code",
        "colab": {}
      },
      "source": [
        "#splitting the data into(using TFIDF Vectorizer) into train test model\n",
        "X_tfidf_train, X_tfidf_test, y_train, y_test = train_test_split(X_tfidf, y,test_size=0.3,random_state=101)"
      ],
      "execution_count": 0,
      "outputs": []
    },
    {
      "cell_type": "code",
      "metadata": {
        "id": "xo-v4svpVpDM",
        "colab_type": "code",
        "colab": {}
      },
      "source": [
        "#Multinomial Naives Bayes Model\n",
        "from sklearn.naive_bayes import MultinomialNB\n",
        "nb = MultinomialNB()"
      ],
      "execution_count": 0,
      "outputs": []
    },
    {
      "cell_type": "code",
      "metadata": {
        "id": "vcaJSIzpVq7O",
        "colab_type": "code",
        "colab": {}
      },
      "source": [
        "#fit the naives bayes using count Vectorizer\n",
        "j=nb.fit(X_train,y_train)"
      ],
      "execution_count": 0,
      "outputs": []
    },
    {
      "cell_type": "code",
      "metadata": {
        "id": "Z-osMH0TZmQN",
        "colab_type": "code",
        "colab": {}
      },
      "source": [
        "#fitting the naive bayes using tfidf(3-gram) Vectorizer\n",
        "j_tf = nb.fit(X_tfidf_train,y_train)"
      ],
      "execution_count": 0,
      "outputs": []
    },
    {
      "cell_type": "code",
      "metadata": {
        "id": "Odw9-S_9VsfK",
        "colab_type": "code",
        "outputId": "4b66b19a-0e31-43b3-b8a6-d3b117701614",
        "colab": {
          "base_uri": "https://localhost:8080/",
          "height": 34
        }
      },
      "source": [
        "j\n"
      ],
      "execution_count": 0,
      "outputs": [
        {
          "output_type": "execute_result",
          "data": {
            "text/plain": [
              "MultinomialNB(alpha=1.0, class_prior=None, fit_prior=True)"
            ]
          },
          "metadata": {
            "tags": []
          },
          "execution_count": 105
        }
      ]
    },
    {
      "cell_type": "code",
      "metadata": {
        "id": "itSTXwTccHh-",
        "colab_type": "code",
        "outputId": "61e75996-267e-4999-c105-164a5ab322ee",
        "colab": {
          "base_uri": "https://localhost:8080/",
          "height": 34
        }
      },
      "source": [
        "j_tf"
      ],
      "execution_count": 0,
      "outputs": [
        {
          "output_type": "execute_result",
          "data": {
            "text/plain": [
              "MultinomialNB(alpha=1.0, class_prior=None, fit_prior=True)"
            ]
          },
          "metadata": {
            "tags": []
          },
          "execution_count": 109
        }
      ]
    },
    {
      "cell_type": "code",
      "metadata": {
        "id": "Hab64CCiVtYN",
        "colab_type": "code",
        "colab": {}
      },
      "source": [
        "predictions_Mnb = nb.predict(X_test)"
      ],
      "execution_count": 0,
      "outputs": []
    },
    {
      "cell_type": "code",
      "metadata": {
        "id": "prBqy69wcNiH",
        "colab_type": "code",
        "colab": {}
      },
      "source": [
        "#predictions with tfidf test\n",
        "predictions_Mnb_tf = nb.predict(X_tfidf_test)"
      ],
      "execution_count": 0,
      "outputs": []
    },
    {
      "cell_type": "code",
      "metadata": {
        "id": "qEwXv7X7Vvb8",
        "colab_type": "code",
        "colab": {}
      },
      "source": [
        "from sklearn.metrics import confusion_matrix,classification_report"
      ],
      "execution_count": 0,
      "outputs": []
    },
    {
      "cell_type": "code",
      "metadata": {
        "id": "iwuGPEYwVxNy",
        "colab_type": "code",
        "outputId": "9f9a427a-b37d-48a9-fce5-5a6d16fdeadc",
        "colab": {
          "base_uri": "https://localhost:8080/",
          "height": 408
        }
      },
      "source": [
        "print(confusion_matrix(y_test,predictions_Mnb))\n",
        "print('\\n')\n",
        "print(classification_report(y_test,predictions_Mnb))"
      ],
      "execution_count": 0,
      "outputs": [
        {
          "output_type": "stream",
          "text": [
            "[[1330    1   52   16    1   14   29]\n",
            " [  12   11   11    3    1    2   58]\n",
            " [ 167    0 1019   94    2   11   88]\n",
            " [ 148    0  291  614    1    7   49]\n",
            " [  25    0   15    0  344   59   17]\n",
            " [  45    0   20    8   21  609   16]\n",
            " [  89    0   64   17    1   15  956]]\n",
            "\n",
            "\n",
            "                     precision    recall  f1-score   support\n",
            "\n",
            "             austen       0.73      0.92      0.82      1443\n",
            "              blake       0.92      0.11      0.20        98\n",
            "    chesterton-ball       0.69      0.74      0.71      1381\n",
            "chesterton-thursday       0.82      0.55      0.66      1110\n",
            " shakespeare-caesar       0.93      0.75      0.83       460\n",
            " shakespeare-hamlet       0.85      0.85      0.85       719\n",
            "            whitman       0.79      0.84      0.81      1142\n",
            "\n",
            "           accuracy                           0.77      6353\n",
            "          macro avg       0.82      0.68      0.70      6353\n",
            "       weighted avg       0.78      0.77      0.76      6353\n",
            "\n"
          ],
          "name": "stdout"
        }
      ]
    },
    {
      "cell_type": "code",
      "metadata": {
        "id": "s2raqI4Hcb1Y",
        "colab_type": "code",
        "outputId": "f29403a8-ade2-47b5-aed6-6e6b7030192a",
        "colab": {
          "base_uri": "https://localhost:8080/",
          "height": 462
        }
      },
      "source": [
        "print(confusion_matrix(y_test,predictions_Mnb_tf))\n",
        "print('\\n')\n",
        "print(classification_report(y_test,predictions_Mnb_tf))"
      ],
      "execution_count": 0,
      "outputs": [
        {
          "output_type": "stream",
          "text": [
            "[[1369    0   52    4    0    6   12]\n",
            " [  22    0   12    4    0    1   59]\n",
            " [ 217    0 1065   47    0    4   48]\n",
            " [ 224    0  382  482    0    0   22]\n",
            " [  53    0   44    3  261   61   38]\n",
            " [  90    0   44    3    5  555   22]\n",
            " [ 146    0  115   11    0    2  868]]\n",
            "\n",
            "\n",
            "                     precision    recall  f1-score   support\n",
            "\n",
            "             austen       0.65      0.95      0.77      1443\n",
            "              blake       0.00      0.00      0.00        98\n",
            "    chesterton-ball       0.62      0.77      0.69      1381\n",
            "chesterton-thursday       0.87      0.43      0.58      1110\n",
            " shakespeare-caesar       0.98      0.57      0.72       460\n",
            " shakespeare-hamlet       0.88      0.77      0.82       719\n",
            "            whitman       0.81      0.76      0.79      1142\n",
            "\n",
            "           accuracy                           0.72      6353\n",
            "          macro avg       0.69      0.61      0.62      6353\n",
            "       weighted avg       0.75      0.72      0.71      6353\n",
            "\n"
          ],
          "name": "stdout"
        },
        {
          "output_type": "stream",
          "text": [
            "/usr/local/lib/python3.6/dist-packages/sklearn/metrics/_classification.py:1272: UndefinedMetricWarning: Precision and F-score are ill-defined and being set to 0.0 in labels with no predicted samples. Use `zero_division` parameter to control this behavior.\n",
            "  _warn_prf(average, modifier, msg_start, len(result))\n"
          ],
          "name": "stderr"
        }
      ]
    },
    {
      "cell_type": "code",
      "metadata": {
        "id": "ShHdkSvhJbfZ",
        "colab_type": "code",
        "outputId": "d8b50bf6-220c-42ec-c426-b8af9dae4b2e",
        "colab": {
          "base_uri": "https://localhost:8080/",
          "height": 34
        }
      },
      "source": [
        "#Getting accuracy score using BOW (Count Vectorizer)\n",
        "from sklearn.metrics import accuracy_score\n",
        "accuracy_score(y_test,predictions_Mnb)"
      ],
      "execution_count": 0,
      "outputs": [
        {
          "output_type": "execute_result",
          "data": {
            "text/plain": [
              "0.7686132535809853"
            ]
          },
          "metadata": {
            "tags": []
          },
          "execution_count": 49
        }
      ]
    },
    {
      "cell_type": "code",
      "metadata": {
        "id": "ml9IADLVcoh9",
        "colab_type": "code",
        "outputId": "ddcce3e0-821e-41ef-d9f6-85c1cb3a1a93",
        "colab": {
          "base_uri": "https://localhost:8080/",
          "height": 34
        }
      },
      "source": [
        "#Getting accuracy score using tfidf(3-gram) Vectorizer\n",
        "from sklearn.metrics import accuracy_score\n",
        "accuracy_score(y_test,predictions_Mnb_tf)"
      ],
      "execution_count": 0,
      "outputs": [
        {
          "output_type": "execute_result",
          "data": {
            "text/plain": [
              "0.7240673697465764"
            ]
          },
          "metadata": {
            "tags": []
          },
          "execution_count": 112
        }
      ]
    },
    {
      "cell_type": "code",
      "metadata": {
        "id": "9vbjteMZVyrG",
        "colab_type": "code",
        "outputId": "0d3792de-37fa-456a-8d9b-7f55309b845d",
        "colab": {
          "base_uri": "https://localhost:8080/",
          "height": 119
        }
      },
      "source": [
        "  #Now using the first algorithm\n",
        "  #Decision Tree ALgorithm with BOW\n",
        "from sklearn.tree import DecisionTreeClassifier\n",
        "dtree = DecisionTreeClassifier()\n",
        "dtree.fit(X_train,y_train)"
      ],
      "execution_count": 0,
      "outputs": [
        {
          "output_type": "execute_result",
          "data": {
            "text/plain": [
              "DecisionTreeClassifier(ccp_alpha=0.0, class_weight=None, criterion='gini',\n",
              "                       max_depth=None, max_features=None, max_leaf_nodes=None,\n",
              "                       min_impurity_decrease=0.0, min_impurity_split=None,\n",
              "                       min_samples_leaf=1, min_samples_split=2,\n",
              "                       min_weight_fraction_leaf=0.0, presort='deprecated',\n",
              "                       random_state=None, splitter='best')"
            ]
          },
          "metadata": {
            "tags": []
          },
          "execution_count": 45
        }
      ]
    },
    {
      "cell_type": "code",
      "metadata": {
        "id": "QfUHveUMV2DC",
        "colab_type": "code",
        "colab": {}
      },
      "source": [
        "predictions_dtree = dtree.predict(X_test)\n",
        "\n"
      ],
      "execution_count": 0,
      "outputs": []
    },
    {
      "cell_type": "code",
      "metadata": {
        "id": "3rSw3xZoH4gq",
        "colab_type": "code",
        "outputId": "f2644727-70ce-4032-aa07-fd2e5c9a0d16",
        "colab": {
          "base_uri": "https://localhost:8080/",
          "height": 34
        }
      },
      "source": [
        "#Getting accuracy score\n",
        "from sklearn.metrics import accuracy_score\n",
        "accuracy_score(y_test,predictions_dtree)\n"
      ],
      "execution_count": 0,
      "outputs": [
        {
          "output_type": "execute_result",
          "data": {
            "text/plain": [
              "0.6079017786872344"
            ]
          },
          "metadata": {
            "tags": []
          },
          "execution_count": 50
        }
      ]
    },
    {
      "cell_type": "code",
      "metadata": {
        "id": "jTy4fUhKV497",
        "colab_type": "code",
        "outputId": "62602b4a-6234-47bb-e833-9aa70eddac1c",
        "colab": {
          "base_uri": "https://localhost:8080/",
          "height": 408
        }
      },
      "source": [
        "#classification report and confusion matrix for the decision tree\n",
        "from sklearn.metrics import classification_report,confusion_matrix\n",
        "print(confusion_matrix(y_test,predictions_dtree))\n",
        "print('\\n')\n",
        "print(classification_report(y_test,predictions_dtree))\n"
      ],
      "execution_count": 0,
      "outputs": [
        {
          "output_type": "stream",
          "text": [
            "[[1038   10  136  130   17   28   84]\n",
            " [  11   19    7    5    6    5   45]\n",
            " [ 176   10  785  236   30   43  101]\n",
            " [ 149   11  239  589   30   23   69]\n",
            " [  20    1   19   33  303   62   22]\n",
            " [  54    1   34   55   42  487   46]\n",
            " [ 137   12  137  161   21   33  641]]\n",
            "\n",
            "\n",
            "                     precision    recall  f1-score   support\n",
            "\n",
            "             austen       0.65      0.72      0.69      1443\n",
            "              blake       0.30      0.19      0.23        98\n",
            "    chesterton-ball       0.58      0.57      0.57      1381\n",
            "chesterton-thursday       0.49      0.53      0.51      1110\n",
            " shakespeare-caesar       0.67      0.66      0.67       460\n",
            " shakespeare-hamlet       0.72      0.68      0.70       719\n",
            "            whitman       0.64      0.56      0.60      1142\n",
            "\n",
            "           accuracy                           0.61      6353\n",
            "          macro avg       0.58      0.56      0.57      6353\n",
            "       weighted avg       0.61      0.61      0.61      6353\n",
            "\n"
          ],
          "name": "stdout"
        }
      ]
    },
    {
      "cell_type": "code",
      "metadata": {
        "id": "tyZH4ZUXdAik",
        "colab_type": "code",
        "outputId": "96ee4244-d346-4b44-a5df-dc4ee6192b93",
        "colab": {
          "base_uri": "https://localhost:8080/",
          "height": 119
        }
      },
      "source": [
        "#Decision Tree algorithm using Tfidf Vectorizer\n",
        "from sklearn.tree import DecisionTreeClassifier\n",
        "dtree = DecisionTreeClassifier()\n",
        "dtree.fit(X_tfidf_train,y_train)\n"
      ],
      "execution_count": 0,
      "outputs": [
        {
          "output_type": "execute_result",
          "data": {
            "text/plain": [
              "DecisionTreeClassifier(ccp_alpha=0.0, class_weight=None, criterion='gini',\n",
              "                       max_depth=None, max_features=None, max_leaf_nodes=None,\n",
              "                       min_impurity_decrease=0.0, min_impurity_split=None,\n",
              "                       min_samples_leaf=1, min_samples_split=2,\n",
              "                       min_weight_fraction_leaf=0.0, presort='deprecated',\n",
              "                       random_state=None, splitter='best')"
            ]
          },
          "metadata": {
            "tags": []
          },
          "execution_count": 113
        }
      ]
    },
    {
      "cell_type": "code",
      "metadata": {
        "id": "jXx1eFnIdZ4V",
        "colab_type": "code",
        "colab": {}
      },
      "source": [
        "predictions_dtree_tf = dtree.predict(X_tfidf_test)\n",
        "\n"
      ],
      "execution_count": 0,
      "outputs": []
    },
    {
      "cell_type": "code",
      "metadata": {
        "id": "bKJPdy-8dchQ",
        "colab_type": "code",
        "outputId": "92231532-0fab-4d78-9db8-7328b277ff55",
        "colab": {
          "base_uri": "https://localhost:8080/",
          "height": 34
        }
      },
      "source": [
        "#Getting accuracy score\n",
        "from sklearn.metrics import accuracy_score\n",
        "accuracy_score(y_test,predictions_dtree_tf)\n"
      ],
      "execution_count": 0,
      "outputs": [
        {
          "output_type": "execute_result",
          "data": {
            "text/plain": [
              "0.6175035416338738"
            ]
          },
          "metadata": {
            "tags": []
          },
          "execution_count": 116
        }
      ]
    },
    {
      "cell_type": "code",
      "metadata": {
        "id": "vJPdBWBCV7HG",
        "colab_type": "code",
        "outputId": "80fe0836-37c1-4eef-d4e1-c6401caf1c3c",
        "colab": {
          "base_uri": "https://localhost:8080/",
          "height": 85
        }
      },
      "source": [
        "#NOW using our second algorithm i.e., SVM\n",
        "#SVM modeling using BOW\n",
        "from sklearn.svm import SVC\n",
        "svc_model = SVC()\n",
        "svc_model.fit(X_train,y_train)"
      ],
      "execution_count": 0,
      "outputs": [
        {
          "output_type": "execute_result",
          "data": {
            "text/plain": [
              "SVC(C=1.0, break_ties=False, cache_size=200, class_weight=None, coef0=0.0,\n",
              "    decision_function_shape='ovr', degree=3, gamma='scale', kernel='rbf',\n",
              "    max_iter=-1, probability=False, random_state=None, shrinking=True,\n",
              "    tol=0.001, verbose=False)"
            ]
          },
          "metadata": {
            "tags": []
          },
          "execution_count": 32
        }
      ]
    },
    {
      "cell_type": "code",
      "metadata": {
        "id": "F5AC2t_qV9aM",
        "colab_type": "code",
        "outputId": "03381cbc-024d-4f6a-98c1-6dd529ffa36d",
        "colab": {
          "base_uri": "https://localhost:8080/",
          "height": 408
        }
      },
      "source": [
        "#predictions and generating the classification and confusion report\n",
        "predictions_svc = svc_model.predict(X_test)\n",
        "from sklearn.metrics import classification_report,confusion_matrix\n",
        "print(confusion_matrix(y_test,predictions_svc))\n",
        "print('\\n')\n",
        "print(classification_report(y_test,predictions_svc))\n"
      ],
      "execution_count": 0,
      "outputs": [
        {
          "output_type": "stream",
          "text": [
            "[[1132    0  157   17    0    8  129]\n",
            " [  11    4    9    3    0    1   70]\n",
            " [ 108    0 1054   40    2    7  170]\n",
            " [ 114    0  406  476    1    2  111]\n",
            " [  14    0   48    3  252   44   99]\n",
            " [  42    0   58    5    9  489  116]\n",
            " [  70    0  112    9    0    3  948]]\n",
            "\n",
            "\n",
            "                     precision    recall  f1-score   support\n",
            "\n",
            "             austen       0.76      0.78      0.77      1443\n",
            "              blake       1.00      0.04      0.08        98\n",
            "    chesterton-ball       0.57      0.76      0.65      1381\n",
            "chesterton-thursday       0.86      0.43      0.57      1110\n",
            " shakespeare-caesar       0.95      0.55      0.70       460\n",
            " shakespeare-hamlet       0.88      0.68      0.77       719\n",
            "            whitman       0.58      0.83      0.68      1142\n",
            "\n",
            "           accuracy                           0.69      6353\n",
            "          macro avg       0.80      0.58      0.60      6353\n",
            "       weighted avg       0.74      0.69      0.68      6353\n",
            "\n"
          ],
          "name": "stdout"
        }
      ]
    },
    {
      "cell_type": "code",
      "metadata": {
        "id": "m-FZo37BJwXx",
        "colab_type": "code",
        "outputId": "48bec099-9215-466c-b0fa-d7526c68fab3",
        "colab": {
          "base_uri": "https://localhost:8080/",
          "height": 34
        }
      },
      "source": [
        "#Getting accuracy score\n",
        "from sklearn.metrics import accuracy_score\n",
        "accuracy_score(y_test,predictions_svc)"
      ],
      "execution_count": 0,
      "outputs": [
        {
          "output_type": "execute_result",
          "data": {
            "text/plain": [
              "0.685502912010074"
            ]
          },
          "metadata": {
            "tags": []
          },
          "execution_count": 53
        }
      ]
    },
    {
      "cell_type": "code",
      "metadata": {
        "id": "v21n8kxIeRuR",
        "colab_type": "code",
        "outputId": "d8199cf2-86ce-43ce-fc68-518e95c4045b",
        "colab": {
          "base_uri": "https://localhost:8080/",
          "height": 85
        }
      },
      "source": [
        "#SVM Modelling using TFidf\n",
        "from sklearn.svm import SVC\n",
        "svc_model = SVC()\n",
        "svc_model.fit(X_tfidf_train,y_train)\n"
      ],
      "execution_count": 0,
      "outputs": [
        {
          "output_type": "execute_result",
          "data": {
            "text/plain": [
              "SVC(C=1.0, break_ties=False, cache_size=200, class_weight=None, coef0=0.0,\n",
              "    decision_function_shape='ovr', degree=3, gamma='scale', kernel='rbf',\n",
              "    max_iter=-1, probability=False, random_state=None, shrinking=True,\n",
              "    tol=0.001, verbose=False)"
            ]
          },
          "metadata": {
            "tags": []
          },
          "execution_count": 117
        }
      ]
    },
    {
      "cell_type": "code",
      "metadata": {
        "id": "dqUoPRXPetCn",
        "colab_type": "code",
        "outputId": "05a646c0-4f83-4976-ab15-6de6d67af686",
        "colab": {
          "base_uri": "https://localhost:8080/",
          "height": 408
        }
      },
      "source": [
        "#predictions and generating the classification and confusion report using tfidf\n",
        "predictions_svc_tf = svc_model.predict(X_tfidf_test)\n",
        "from sklearn.metrics import classification_report,confusion_matrix\n",
        "print(confusion_matrix(y_test,predictions_svc_tf))\n",
        "print('\\n')\n",
        "print(classification_report(y_test,predictions_svc_tf))"
      ],
      "execution_count": 0,
      "outputs": [
        {
          "output_type": "stream",
          "text": [
            "[[1223    0  116   31    0    8   65]\n",
            " [   7   13   11    2    0    1   64]\n",
            " [  78    0 1095   84    1    8  115]\n",
            " [  80    0  375  594    0    1   60]\n",
            " [  12    0   38    8  295   52   55]\n",
            " [  28    0   45   20    8  551   67]\n",
            " [  42    0   96   15    0    5  984]]\n",
            "\n",
            "\n",
            "                     precision    recall  f1-score   support\n",
            "\n",
            "             austen       0.83      0.85      0.84      1443\n",
            "              blake       1.00      0.13      0.23        98\n",
            "    chesterton-ball       0.62      0.79      0.69      1381\n",
            "chesterton-thursday       0.79      0.54      0.64      1110\n",
            " shakespeare-caesar       0.97      0.64      0.77       460\n",
            " shakespeare-hamlet       0.88      0.77      0.82       719\n",
            "            whitman       0.70      0.86      0.77      1142\n",
            "\n",
            "           accuracy                           0.75      6353\n",
            "          macro avg       0.83      0.65      0.68      6353\n",
            "       weighted avg       0.77      0.75      0.74      6353\n",
            "\n"
          ],
          "name": "stdout"
        }
      ]
    },
    {
      "cell_type": "code",
      "metadata": {
        "id": "YoMr1KE3fJos",
        "colab_type": "code",
        "outputId": "d783207d-2c12-4e3f-db65-a8a2f439d2f2",
        "colab": {
          "base_uri": "https://localhost:8080/",
          "height": 34
        }
      },
      "source": [
        "#Getting accuracy score using tfidf\n",
        "from sklearn.metrics import accuracy_score\n",
        "accuracy_score(y_test,predictions_svc_tf)"
      ],
      "execution_count": 0,
      "outputs": [
        {
          "output_type": "execute_result",
          "data": {
            "text/plain": [
              "0.7484652919880371"
            ]
          },
          "metadata": {
            "tags": []
          },
          "execution_count": 119
        }
      ]
    },
    {
      "cell_type": "code",
      "metadata": {
        "id": "6_m6oweZWQ-r",
        "colab_type": "code",
        "outputId": "4bc13efb-84ac-4a1a-b0f2-9b15c9d0f428",
        "colab": {
          "base_uri": "https://localhost:8080/",
          "height": 68
        }
      },
      "source": [
        "#Now using our third algorithm\n",
        "#K-Nearest Neightbor using BOW\n",
        "from sklearn.neighbors import KNeighborsClassifier\n",
        "knn = KNeighborsClassifier(n_neighbors=1)\n",
        "knn.fit(X_train,y_train)"
      ],
      "execution_count": 0,
      "outputs": [
        {
          "output_type": "execute_result",
          "data": {
            "text/plain": [
              "KNeighborsClassifier(algorithm='auto', leaf_size=30, metric='minkowski',\n",
              "                     metric_params=None, n_jobs=None, n_neighbors=1, p=2,\n",
              "                     weights='uniform')"
            ]
          },
          "metadata": {
            "tags": []
          },
          "execution_count": 55
        }
      ]
    },
    {
      "cell_type": "code",
      "metadata": {
        "id": "niIjUu7fWYgT",
        "colab_type": "code",
        "colab": {}
      },
      "source": [
        "predictions_knn = knn.predict(X_test)"
      ],
      "execution_count": 0,
      "outputs": []
    },
    {
      "cell_type": "code",
      "metadata": {
        "id": "2JVeLaADWaZb",
        "colab_type": "code",
        "outputId": "e83fe237-294f-4208-8e7f-b820132a7875",
        "colab": {
          "base_uri": "https://localhost:8080/",
          "height": 408
        }
      },
      "source": [
        "#classification and confusion report\n",
        "from sklearn.metrics import classification_report,confusion_matrix\n",
        "print(confusion_matrix(y_test,predictions_knn))\n",
        "print('\\n')\n",
        "print(classification_report(y_test,predictions_knn))\n"
      ],
      "execution_count": 0,
      "outputs": [
        {
          "output_type": "stream",
          "text": [
            "[[645   6 198 163  36 249 146]\n",
            " [ 13  15  11   6   2  17  34]\n",
            " [177  14 519 216  67 249 139]\n",
            " [157  12 210 374  40 229  88]\n",
            " [ 26   1  38  20 234 121  20]\n",
            " [ 45   2  41  29  50 520  32]\n",
            " [123  14 151  80  45 275 454]]\n",
            "\n",
            "\n",
            "                     precision    recall  f1-score   support\n",
            "\n",
            "             austen       0.54      0.45      0.49      1443\n",
            "              blake       0.23      0.15      0.19        98\n",
            "    chesterton-ball       0.44      0.38      0.41      1381\n",
            "chesterton-thursday       0.42      0.34      0.37      1110\n",
            " shakespeare-caesar       0.49      0.51      0.50       460\n",
            " shakespeare-hamlet       0.31      0.72      0.44       719\n",
            "            whitman       0.50      0.40      0.44      1142\n",
            "\n",
            "           accuracy                           0.43      6353\n",
            "          macro avg       0.42      0.42      0.41      6353\n",
            "       weighted avg       0.46      0.43      0.43      6353\n",
            "\n"
          ],
          "name": "stdout"
        }
      ]
    },
    {
      "cell_type": "code",
      "metadata": {
        "id": "z68AGn4NWcsr",
        "colab_type": "code",
        "outputId": "58a38664-d0ad-44df-9f69-2a0faf2aeb22",
        "colab": {
          "base_uri": "https://localhost:8080/",
          "height": 34
        }
      },
      "source": [
        "#Getting accuracy score\n",
        "from sklearn.metrics import accuracy_score\n",
        "accuracy_score(y_test,predictions_knn)"
      ],
      "execution_count": 0,
      "outputs": [
        {
          "output_type": "execute_result",
          "data": {
            "text/plain": [
              "0.43459782779789075"
            ]
          },
          "metadata": {
            "tags": []
          },
          "execution_count": 58
        }
      ]
    },
    {
      "cell_type": "code",
      "metadata": {
        "id": "j8RDFQ1hfpFx",
        "colab_type": "code",
        "outputId": "05cf7c53-bcdf-4ffe-d519-a25f8f450a2d",
        "colab": {
          "base_uri": "https://localhost:8080/",
          "height": 68
        }
      },
      "source": [
        "#K Nearest Neighbour using TFidf\n",
        "from sklearn.neighbors import KNeighborsClassifier\n",
        "knn = KNeighborsClassifier(n_neighbors=1)\n",
        "knn.fit(X_tfidf_train,y_train)"
      ],
      "execution_count": 0,
      "outputs": [
        {
          "output_type": "execute_result",
          "data": {
            "text/plain": [
              "KNeighborsClassifier(algorithm='auto', leaf_size=30, metric='minkowski',\n",
              "                     metric_params=None, n_jobs=None, n_neighbors=1, p=2,\n",
              "                     weights='uniform')"
            ]
          },
          "metadata": {
            "tags": []
          },
          "execution_count": 120
        }
      ]
    },
    {
      "cell_type": "code",
      "metadata": {
        "id": "n3ATdXUCf_4L",
        "colab_type": "code",
        "colab": {}
      },
      "source": [
        "predictions_knn_tf = knn.predict(X_tfidf_test)"
      ],
      "execution_count": 0,
      "outputs": []
    },
    {
      "cell_type": "code",
      "metadata": {
        "id": "fpSbHSLYgJtV",
        "colab_type": "code",
        "outputId": "7b1b7b82-dc95-457b-9589-d19a3d63a1ca",
        "colab": {
          "base_uri": "https://localhost:8080/",
          "height": 408
        }
      },
      "source": [
        "#classification and confusion report for KNN using tfidf\n",
        "from sklearn.metrics import classification_report,confusion_matrix\n",
        "print(confusion_matrix(y_test,predictions_knn_tf))\n",
        "print('\\n')\n",
        "print(classification_report(y_test,predictions_knn_tf))"
      ],
      "execution_count": 0,
      "outputs": [
        {
          "output_type": "stream",
          "text": [
            "[[ 204    2   52   29    6 1127   23]\n",
            " [   1   11    1    1    0   79    5]\n",
            " [  41    3  209   69   16 1010   33]\n",
            " [  29    0   67  190    3  815    6]\n",
            " [   7    1    6    4  177  262    3]\n",
            " [  12    0   10    6   26  657    8]\n",
            " [  19    2   25   19    7  905  165]]\n",
            "\n",
            "\n",
            "                     precision    recall  f1-score   support\n",
            "\n",
            "             austen       0.65      0.14      0.23      1443\n",
            "              blake       0.58      0.11      0.19        98\n",
            "    chesterton-ball       0.56      0.15      0.24      1381\n",
            "chesterton-thursday       0.60      0.17      0.27      1110\n",
            " shakespeare-caesar       0.75      0.38      0.51       460\n",
            " shakespeare-hamlet       0.14      0.91      0.24       719\n",
            "            whitman       0.68      0.14      0.24      1142\n",
            "\n",
            "           accuracy                           0.25      6353\n",
            "          macro avg       0.57      0.29      0.27      6353\n",
            "       weighted avg       0.58      0.25      0.26      6353\n",
            "\n"
          ],
          "name": "stdout"
        }
      ]
    },
    {
      "cell_type": "code",
      "metadata": {
        "id": "iapZRq0WghO6",
        "colab_type": "code",
        "outputId": "afa1c636-8901-4042-92de-4bbf4b10df51",
        "colab": {
          "base_uri": "https://localhost:8080/",
          "height": 34
        }
      },
      "source": [
        "from sklearn.metrics import accuracy_score\n",
        "accuracy_score(y_test,predictions_knn_tf)"
      ],
      "execution_count": 0,
      "outputs": [
        {
          "output_type": "execute_result",
          "data": {
            "text/plain": [
              "0.2538957972611365"
            ]
          },
          "metadata": {
            "tags": []
          },
          "execution_count": 124
        }
      ]
    },
    {
      "cell_type": "code",
      "metadata": {
        "id": "RQlOCXaDbdXd",
        "colab_type": "code",
        "outputId": "0427910d-a912-4272-ddee-ec482547400e",
        "colab": {
          "base_uri": "https://localhost:8080/",
          "height": 333
        }
      },
      "source": [
        "#10 fold cross Validation\n",
        "from sklearn.model_selection import KFold\n",
        "cv = KFold(n_splits=10)\n",
        "for traincv, testcv in cv.split(X_train):\n",
        "    classifier = nltk.NaiveBayesClassifier.train(X_train[traincv[0]:traincv[len(traincv)-1]])\n",
        "    print ('accuracy:', nltk.classify.util.accuracy(classifier, X_train[testcv[0]:testcv[len(testcv)-1]]))"
      ],
      "execution_count": 0,
      "outputs": [
        {
          "output_type": "error",
          "ename": "ValueError",
          "evalue": "ignored",
          "traceback": [
            "\u001b[0;31m---------------------------------------------------------------------------\u001b[0m",
            "\u001b[0;31mValueError\u001b[0m                                Traceback (most recent call last)",
            "\u001b[0;32m<ipython-input-108-eeceaf89be73>\u001b[0m in \u001b[0;36m<module>\u001b[0;34m()\u001b[0m\n\u001b[1;32m      2\u001b[0m \u001b[0mcv\u001b[0m \u001b[0;34m=\u001b[0m \u001b[0mKFold\u001b[0m\u001b[0;34m(\u001b[0m\u001b[0mn_splits\u001b[0m\u001b[0;34m=\u001b[0m\u001b[0;36m10\u001b[0m\u001b[0;34m)\u001b[0m\u001b[0;34m\u001b[0m\u001b[0;34m\u001b[0m\u001b[0m\n\u001b[1;32m      3\u001b[0m \u001b[0;32mfor\u001b[0m \u001b[0mtraincv\u001b[0m\u001b[0;34m,\u001b[0m \u001b[0mtestcv\u001b[0m \u001b[0;32min\u001b[0m \u001b[0mcv\u001b[0m\u001b[0;34m.\u001b[0m\u001b[0msplit\u001b[0m\u001b[0;34m(\u001b[0m\u001b[0mX_train\u001b[0m\u001b[0;34m)\u001b[0m\u001b[0;34m:\u001b[0m\u001b[0;34m\u001b[0m\u001b[0;34m\u001b[0m\u001b[0m\n\u001b[0;32m----> 4\u001b[0;31m     \u001b[0mclassifier\u001b[0m \u001b[0;34m=\u001b[0m \u001b[0mnltk\u001b[0m\u001b[0;34m.\u001b[0m\u001b[0mNaiveBayesClassifier\u001b[0m\u001b[0;34m.\u001b[0m\u001b[0mtrain\u001b[0m\u001b[0;34m(\u001b[0m\u001b[0mX_train\u001b[0m\u001b[0;34m[\u001b[0m\u001b[0mtraincv\u001b[0m\u001b[0;34m[\u001b[0m\u001b[0;36m0\u001b[0m\u001b[0;34m]\u001b[0m\u001b[0;34m:\u001b[0m\u001b[0mtraincv\u001b[0m\u001b[0;34m[\u001b[0m\u001b[0mlen\u001b[0m\u001b[0;34m(\u001b[0m\u001b[0mtraincv\u001b[0m\u001b[0;34m)\u001b[0m\u001b[0;34m-\u001b[0m\u001b[0;36m1\u001b[0m\u001b[0;34m]\u001b[0m\u001b[0;34m]\u001b[0m\u001b[0;34m)\u001b[0m\u001b[0;34m\u001b[0m\u001b[0;34m\u001b[0m\u001b[0m\n\u001b[0m\u001b[1;32m      5\u001b[0m     \u001b[0mprint\u001b[0m \u001b[0;34m(\u001b[0m\u001b[0;34m'accuracy:'\u001b[0m\u001b[0;34m,\u001b[0m \u001b[0mnltk\u001b[0m\u001b[0;34m.\u001b[0m\u001b[0mclassify\u001b[0m\u001b[0;34m.\u001b[0m\u001b[0mutil\u001b[0m\u001b[0;34m.\u001b[0m\u001b[0maccuracy\u001b[0m\u001b[0;34m(\u001b[0m\u001b[0mclassifier\u001b[0m\u001b[0;34m,\u001b[0m \u001b[0mX_train\u001b[0m\u001b[0;34m[\u001b[0m\u001b[0mtestcv\u001b[0m\u001b[0;34m[\u001b[0m\u001b[0;36m0\u001b[0m\u001b[0;34m]\u001b[0m\u001b[0;34m:\u001b[0m\u001b[0mtestcv\u001b[0m\u001b[0;34m[\u001b[0m\u001b[0mlen\u001b[0m\u001b[0;34m(\u001b[0m\u001b[0mtestcv\u001b[0m\u001b[0;34m)\u001b[0m\u001b[0;34m-\u001b[0m\u001b[0;36m1\u001b[0m\u001b[0;34m]\u001b[0m\u001b[0;34m]\u001b[0m\u001b[0;34m)\u001b[0m\u001b[0;34m)\u001b[0m\u001b[0;34m\u001b[0m\u001b[0;34m\u001b[0m\u001b[0m\n",
            "\u001b[0;32m/usr/local/lib/python3.6/dist-packages/nltk/classify/naivebayes.py\u001b[0m in \u001b[0;36mtrain\u001b[0;34m(cls, labeled_featuresets, estimator)\u001b[0m\n\u001b[1;32m    192\u001b[0m         \u001b[0;31m# Count up how many times each feature value occurred, given\u001b[0m\u001b[0;34m\u001b[0m\u001b[0;34m\u001b[0m\u001b[0;34m\u001b[0m\u001b[0m\n\u001b[1;32m    193\u001b[0m         \u001b[0;31m# the label and featurename.\u001b[0m\u001b[0;34m\u001b[0m\u001b[0;34m\u001b[0m\u001b[0;34m\u001b[0m\u001b[0m\n\u001b[0;32m--> 194\u001b[0;31m         \u001b[0;32mfor\u001b[0m \u001b[0mfeatureset\u001b[0m\u001b[0;34m,\u001b[0m \u001b[0mlabel\u001b[0m \u001b[0;32min\u001b[0m \u001b[0mlabeled_featuresets\u001b[0m\u001b[0;34m:\u001b[0m\u001b[0;34m\u001b[0m\u001b[0;34m\u001b[0m\u001b[0m\n\u001b[0m\u001b[1;32m    195\u001b[0m             \u001b[0mlabel_freqdist\u001b[0m\u001b[0;34m[\u001b[0m\u001b[0mlabel\u001b[0m\u001b[0;34m]\u001b[0m \u001b[0;34m+=\u001b[0m \u001b[0;36m1\u001b[0m\u001b[0;34m\u001b[0m\u001b[0;34m\u001b[0m\u001b[0m\n\u001b[1;32m    196\u001b[0m             \u001b[0;32mfor\u001b[0m \u001b[0mfname\u001b[0m\u001b[0;34m,\u001b[0m \u001b[0mfval\u001b[0m \u001b[0;32min\u001b[0m \u001b[0mfeatureset\u001b[0m\u001b[0;34m.\u001b[0m\u001b[0mitems\u001b[0m\u001b[0;34m(\u001b[0m\u001b[0;34m)\u001b[0m\u001b[0;34m:\u001b[0m\u001b[0;34m\u001b[0m\u001b[0;34m\u001b[0m\u001b[0m\n",
            "\u001b[0;31mValueError\u001b[0m: not enough values to unpack (expected 2, got 1)"
          ]
        }
      ]
    },
    {
      "cell_type": "code",
      "metadata": {
        "id": "fPb6imxiKJ5a",
        "colab_type": "code",
        "colab": {}
      },
      "source": [
        ""
      ],
      "execution_count": 0,
      "outputs": []
    }
  ]
}